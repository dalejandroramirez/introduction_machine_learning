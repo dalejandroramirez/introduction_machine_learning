{
  "cells": [
    {
      "cell_type": "markdown",
      "id": "reflected-camera",
      "metadata": {
        "id": "reflected-camera"
      },
      "source": [
        "# Reto: explora diferentes ejemplos de modelos y qué pueden hacer\n",
        "\n",
        "#### Natasha Seelam, PhD\n",
        "#### Head of AI/ML Research @ MindsDB\n",
        "\n",
        "**Agradecimientos especiales: Dr. Dariusz K. Murakowski**\n",
        "\n",
        "---\n",
        "\n",
        "En esta notebook aprenderás la base del uso de diferentes algoritmos básicos de machine learning. \n",
        "\n",
        "Para esta clase usaremos la librería [scikit-learn](https://scikit-learn.org/stable/), una de las librerías más sencillas de utilizar para aprender machine learning.\n",
        "\n",
        "Para los siguientes ejemplos, usaremos los argumentos predeterminados. En la práctica, deberás ajustar los parámetros. Recuerda consultar todas las páginas de documentación de cada uno de los modelos:\n",
        "\n",
        "* Regresión lineal: [aquí](https://scikit-learn.org/stable/modules/generated/sklearn.linear_model.LinearRegression.html?highlight=linear%20regression#sklearn.linear_model.LinearRegression)\n",
        "* Regresión logística: [aquí](https://scikit-learn.org/stable/modules/generated/sklearn.linear_model.LogisticRegression.html?highlight=logistic%20regression#sklearn.linear_model.LogisticRegression)\n",
        "* Clasificador de bosque aleatorio (árboles de decisión): [aquí](https://scikit-learn.org/stable/modules/generated/sklearn.ensemble.RandomForestClassifier.html?highlight=randomforest#sklearn.ensemble.RandomForestClassifier)\n",
        "\n",
        "Recuerda que en los siguientes cursos de machine learning de la Escuela de Ciencia de Datos e Inteligencia Artificial aprenderás a mayor detalle a usar estos algoritmos y librerías. ¡Comencemos con las bases!"
      ]
    },
    {
      "cell_type": "code",
      "execution_count": 2,
      "id": "cultural-conviction",
      "metadata": {
        "id": "cultural-conviction"
      },
      "outputs": [],
      "source": [
        "# Importamos librerías de manejo numérico y procesamiento de datos.\n",
        "import numpy as np\n",
        "import pandas as pd\n",
        "\n",
        "# Importamos scikit-learn, nuestra librería base para utilizar algoritmos de machine learning.\n",
        "import sklearn\n",
        "\n",
        "#Importamos los datasets de scikit-learn\n",
        "from sklearn import datasets\n",
        "\n",
        "# Importamos librerías de scikit-learn para manejo de regresión lineal/logística.\n",
        "from sklearn import linear_model\n",
        "\n",
        "# Importamos librerías de scikit-learn para uso de clasificación de bosque aleatorio.\n",
        "from sklearn.ensemble import RandomForestClassifier\n",
        "\n",
        "# Importamos librerías de scikit-learn para clusterización con k-means\n",
        "from sklearn.cluster import KMeans\n",
        "\n",
        "# Importamos librerías para manejo del rendimiento (performance) de nuestros modelos.\n",
        "from sklearn.metrics import mean_squared_error, r2_score, accuracy_score\n",
        "\n",
        "# Importamos librerías para graficar.\n",
        "import matplotlib.pyplot as plt\n",
        "from mpl_toolkits.mplot3d import Axes3D\n",
        "\n",
        "# Definimos el tamaño del graficado (opcional).\n",
        "plt.rcParams['font.size']=15"
      ]
    },
    {
      "cell_type": "markdown",
      "id": "understood-brunswick",
      "metadata": {
        "id": "understood-brunswick"
      },
      "source": [
        "Para este ejemplo usaremos el [Iris dataset](https://scikit-learn.org/stable/auto_examples/datasets/plot_iris_dataset.html). Contiene datos de dimensiones de partes de flores.\n",
        "\n",
        "El Iris dataset es uno de los fundamentales para aprender machine learning y podemos considerarlo como un dataset de \"juguete\" porque sus datos se encuentran muy limpios, lo que facilita su uso para nuestro aprendizaje inicial. \n",
        "\n",
        "Iris dataset puede ser descargado automáticamente del módulo ```datasets``` de scikit-learn de la siguiente manera:"
      ]
    },
    {
      "cell_type": "code",
      "execution_count": 16,
      "id": "graphic-function",
      "metadata": {
        "colab": {
          "base_uri": "https://localhost:8080/"
        },
        "id": "graphic-function",
        "outputId": "eb4379e7-5cea-4c10-a513-3cbf050ea697"
      },
      "outputs": [
        {
          "name": "stdout",
          "output_type": "stream",
          "text": [
            "[0 0 0 0 0 0 0 0 0 0 0 0 0 0 0 0 0 0 0 0 0 0 0 0 0 0 0 0 0 0 0 0 0 0 0 0 0\n",
            " 0 0 0 0 0 0 0 0 0 0 0 0 0 1 1 1 1 1 1 1 1 1 1 1 1 1 1 1 1 1 1 1 1 1 1 1 1\n",
            " 1 1 1 1 1 1 1 1 1 1 1 1 1 1 1 1 1 1 1 1 1 1 1 1 1 1 2 2 2 2 2 2 2 2 2 2 2\n",
            " 2 2 2 2 2 2 2 2 2 2 2 2 2 2 2 2 2 2 2 2 2 2 2 2 2 2 2 2 2 2 2 2 2 2 2 2 2\n",
            " 2 2]\n"
          ]
        }
      ],
      "source": [
        "# Carga del Iris dataset.\n",
        "iris = datasets.load_iris()\n",
        "\n",
        "# Imprimimos los datos.\n",
        "print(iris.target)\n"
      ]
    },
    {
      "cell_type": "markdown",
      "id": "signed-specific",
      "metadata": {
        "id": "signed-specific"
      },
      "source": [
        "## 1: Familiarizarse con tu conjunto de datos\n",
        "\n",
        "Inspeccionando los elementos parece que los \"datos\" contienen la información que necesitamos. Están en la forma de array, típicamente denotado $N \\times M$ donde $N$ representa el número de filas (150), y $M$ el número de columnas (4).\n",
        "\n",
        "La clave `feature_names` indica la información de las características: largo del sépalo, ancho del sépalo, largo del pétalo y ancho del pétalo.\n",
        "\n",
        "El término \"target\", salida u objetivo es típicamente la meta que queremos modelar. La clave `target_names` indica 3 especies de esta flor: \"setosa\", \"versicolor\" y \"virginica\".\n",
        "\n",
        "The term \"target\" is typically the goal we are trying to model. The key \"target_names\" indicates 3 species of this flower, \"setosa\", \"versicolor\", and \"virginica\".\n",
        "\n",
        "Nuestra meta es usar estos features y descripciones de las flores para poder predecir la especie de la planta.\n",
        "\n",
        "Para comenzar llevemos estos datos a un DataFrame en Pandas:"
      ]
    },
    {
      "cell_type": "code",
      "execution_count": 17,
      "id": "roman-roulette",
      "metadata": {
        "colab": {
          "base_uri": "https://localhost:8080/",
          "height": 204
        },
        "id": "roman-roulette",
        "outputId": "796112fa-a6af-4761-981b-8685d68d52b7"
      },
      "outputs": [
        {
          "data": {
            "text/html": [
              "<div>\n",
              "<style scoped>\n",
              "    .dataframe tbody tr th:only-of-type {\n",
              "        vertical-align: middle;\n",
              "    }\n",
              "\n",
              "    .dataframe tbody tr th {\n",
              "        vertical-align: top;\n",
              "    }\n",
              "\n",
              "    .dataframe thead th {\n",
              "        text-align: right;\n",
              "    }\n",
              "</style>\n",
              "<table border=\"1\" class=\"dataframe\">\n",
              "  <thead>\n",
              "    <tr style=\"text-align: right;\">\n",
              "      <th></th>\n",
              "      <th>sepal length (cm)</th>\n",
              "      <th>sepal width (cm)</th>\n",
              "      <th>petal length (cm)</th>\n",
              "      <th>petal width (cm)</th>\n",
              "      <th>species</th>\n",
              "    </tr>\n",
              "  </thead>\n",
              "  <tbody>\n",
              "    <tr>\n",
              "      <th>91</th>\n",
              "      <td>6.1</td>\n",
              "      <td>3.0</td>\n",
              "      <td>4.6</td>\n",
              "      <td>1.4</td>\n",
              "      <td>1</td>\n",
              "    </tr>\n",
              "    <tr>\n",
              "      <th>63</th>\n",
              "      <td>6.1</td>\n",
              "      <td>2.9</td>\n",
              "      <td>4.7</td>\n",
              "      <td>1.4</td>\n",
              "      <td>1</td>\n",
              "    </tr>\n",
              "    <tr>\n",
              "      <th>103</th>\n",
              "      <td>6.3</td>\n",
              "      <td>2.9</td>\n",
              "      <td>5.6</td>\n",
              "      <td>1.8</td>\n",
              "      <td>2</td>\n",
              "    </tr>\n",
              "    <tr>\n",
              "      <th>6</th>\n",
              "      <td>4.6</td>\n",
              "      <td>3.4</td>\n",
              "      <td>1.4</td>\n",
              "      <td>0.3</td>\n",
              "      <td>0</td>\n",
              "    </tr>\n",
              "    <tr>\n",
              "      <th>59</th>\n",
              "      <td>5.2</td>\n",
              "      <td>2.7</td>\n",
              "      <td>3.9</td>\n",
              "      <td>1.4</td>\n",
              "      <td>1</td>\n",
              "    </tr>\n",
              "  </tbody>\n",
              "</table>\n",
              "</div>"
            ],
            "text/plain": [
              "     sepal length (cm)  sepal width (cm)  petal length (cm)  petal width (cm)  \\\n",
              "91                 6.1               3.0                4.6               1.4   \n",
              "63                 6.1               2.9                4.7               1.4   \n",
              "103                6.3               2.9                5.6               1.8   \n",
              "6                  4.6               3.4                1.4               0.3   \n",
              "59                 5.2               2.7                3.9               1.4   \n",
              "\n",
              "     species  \n",
              "91         1  \n",
              "63         1  \n",
              "103        2  \n",
              "6          0  \n",
              "59         1  "
            ]
          },
          "execution_count": 17,
          "metadata": {},
          "output_type": "execute_result"
        }
      ],
      "source": [
        "# Creamos el DataFrame con los feature names.\n",
        "data = pd.DataFrame(data=iris.data, columns=iris.feature_names)\n",
        "\n",
        "# Creamos el DataFrame con los targets (las especies de la flor).\n",
        "target = pd.DataFrame(data=iris.target, columns=['species'])\n",
        "\n",
        "# Unimos ambos DF con concat; agregamos una nueva columna.\n",
        "data = pd.concat([data, target], axis=1)\n",
        "\n",
        "# Mezclar en orden aleatorio.\n",
        "data = data.sample(frac=1, random_state=1234)\n",
        "\n",
        "# Imprimimos los primeros registros del nuevo DataFrame.\n",
        "data.head()"
      ]
    },
    {
      "cell_type": "markdown",
      "id": "empirical-cheat",
      "metadata": {
        "id": "empirical-cheat"
      },
      "source": [
        "### 1a: Separando nuestros datos - training y testing\n",
        "\n",
        "Antes de comenzar a crear modelos, es importante dividir nuestro conjunto de datos en **Entrenamiento (Training)** y **Pruebas (Testing)**.\n",
        "\n",
        "Una buena regla general es que la mayoría de los datos deben incluirse en **entrenamiento**. Los datos de entrenamiento se utilizan para ayudar a nuestros modelos a aprender las \"reglas\" o patrones subyacentes dentro de los datos.\n",
        "\n",
        "El conjunto de **pruebas** debe separarse del conjunto de entrenamiento. Su objetivo es evaluar el modelo que hizo, lo que significa que verificamos si los patrones detectados en el modelo reflejan lo que estamos tratando de modelar.\n",
        "\n",
        "También recordemos que existe el término **Validación (Validation)**. Esta separación del dataset se usa típicamente para modelos más complicados donde se requieren parámetros de ajuste (o los elementos clave) de un modelo. En el siguiente caso estos modelos son lo suficientemente simples como para que datos de validación no sean necesaria.\n",
        "\n",
        "Una división del 80/20 por ciento de entrenamiento/pruebas suele ser razonable de manera elemental. Realizamos esto:"
      ]
    },
    {
      "cell_type": "code",
      "execution_count": 18,
      "id": "atlantic-collect",
      "metadata": {
        "id": "atlantic-collect"
      },
      "outputs": [],
      "source": [
        "# Fracción de entrenamiento 0.8.\n",
        "Ntrain = int(data.shape[0] * 0.8)\n",
        "\n",
        "# Datos de entrenamiento.\n",
        "train = data.iloc[:Ntrain, :]\n",
        "\n",
        "# Datos de prueba.\n",
        "test = data.iloc[Ntrain:, :]"
      ]
    },
    {
      "cell_type": "markdown",
      "id": "large-shield",
      "metadata": {
        "id": "large-shield"
      },
      "source": [
        "## 2: Regresión lineal\n",
        "\n",
        "La regresión lineal intenta predecir una salida de valor numérico. La especie de la flor es una etiqueta o label. Así que intentemos pensar en un modelo en el que podamos predecir la salida de un número.\n",
        "\n",
        "\n",
        "Para este ejemplo, supongamos que queremos predecir **petal width** o ancho del pétalo (Index = 3 en el DataFrame).\n",
        "\n",
        "Para comenzar, construyamos un modelo con solo 1 feature, el **petal length** o largo del pétalo (Index = 2 en el DataFrame).\n",
        "\n",
        "\n",
        "Primero, observemos la relación entre **petal length** y **petal width** en los datos:"
      ]
    },
    {
      "cell_type": "code",
      "execution_count": 21,
      "id": "concerned-perth",
      "metadata": {
        "colab": {
          "base_uri": "https://localhost:8080/",
          "height": 358
        },
        "id": "concerned-perth",
        "outputId": "04415300-fad0-457b-9344-9cb26cdfcd81"
      },
      "outputs": [
        {
          "data": {
            "image/png": "[encoded data removed]",
            "text/plain": [
              "<Figure size 360x360 with 1 Axes>"
            ]
          },
          "metadata": {
            "needs_background": "light"
          },
          "output_type": "display_data"
        }
      ],
      "source": [
        "# Definimos variables para acceder de forma más simple a las columnas de nuestros features.\n",
        "plength = data[\"petal length (cm)\"]\n",
        "pwidth = data[\"petal width (cm)\"]\n",
        "\n",
        "# Creamos la gráfica comparanco Petal lenght (eje x) contra Petal width (eje y)\n",
        "f = plt.figure(figsize=(5,5))\n",
        "ax = f.add_subplot(1,1,1)\n",
        "ax.scatter(plength, pwidth)\n",
        "ax.set_xlabel(\"Petal Length\")\n",
        "ax.set_ylabel(\"Petal Width\")\n",
        "ax.set_title(\"Petal Width v. Length\")\n",
        "f.tight_layout()"
      ]
    },
    {
      "cell_type": "code",
      "execution_count": 23,
      "metadata": {},
      "outputs": [
        {
          "data": {
            "text/plain": [
              "91     1.4\n",
              "63     1.4\n",
              "103    1.8\n",
              "6      0.3\n",
              "59     1.4\n",
              "      ... \n",
              "60     1.0\n",
              "71     1.3\n",
              "121    2.0\n",
              "14     0.2\n",
              "81     1.0\n",
              "Name: petal width (cm), Length: 120, dtype: float64"
            ]
          },
          "execution_count": 23,
          "metadata": {},
          "output_type": "execute_result"
        }
      ],
      "source": []
    },
    {
      "cell_type": "markdown",
      "id": "mathematical-fighter",
      "metadata": {
        "id": "mathematical-fighter"
      },
      "source": [
        "De lo anterior, podemos ver una relación **lineal**. Queremos cuantificar esta relación.\n",
        "\n",
        "En la gráfica anterior $x$ es el Petal Lenght y $y$ es el Petal Width. Queremos ajustar un modelo a la forma\n",
        "$\\theta_1*x + \\theta_0 = y$, la ecuación de la recta para generar nuestra regresión lineal.\n",
        "\n",
        "Podemos utilizar scikit-earn para construir un modelo de regresión lineal como tenemos a continuación:\n",
        "\n",
        "\n",
        "\n",
        "**NOTA:** aparecerá un molesto mensaje de error ya que scikit-learn espera un input 2D (N x 1) por eso llamamos \"DataFrame\" en el x-input para ajustar el comando."
      ]
    },
    {
      "cell_type": "code",
      "execution_count": 27,
      "id": "professional-career",
      "metadata": {
        "colab": {
          "base_uri": "https://localhost:8080/"
        },
        "id": "professional-career",
        "outputId": "83a45b00-cd22-4406-efca-749b9f7949c9"
      },
      "outputs": [
        {
          "name": "stdout",
          "output_type": "stream",
          "text": [
            "Coef\n",
            " [0.41490802]\n",
            "\n",
            "\n",
            "Bias\n",
            " -0.357589314248546\n"
          ]
        }
      ],
      "source": [
        "# Importar un objeto de regresión lineal de sklearn.\n",
        "model_1 = linear_model.LinearRegression()\n",
        "\n",
        "# Ajustar el modelo a tus datos.\n",
        "model_1.fit(pd.DataFrame(train.iloc[:, 2]), train.iloc[:, 3])\n",
        "\n",
        "# Imprimir los coeficientes.\n",
        "print(\"Coef\\n\", model_1.coef_)\n",
        "\n",
        "# Imprimir el sesgo o bias.\n",
        "print(\"\\n\\nBias\\n\", model_1.intercept_)"
      ]
    },
    {
      "cell_type": "markdown",
      "id": "supposed-rating",
      "metadata": {
        "id": "supposed-rating"
      },
      "source": [
        "El resultado anterior nos dice que $\\theta_1$, la relación con el largo del pétalo, es $0.41$, y que el bias (también llamado interceptar) es $-0.36$\n",
        "\n",
        "The above tells us that $\\theta_1$, the relationship with petal length, is $0.41$, and that the bias (también llamado interceptar) is $-0.36$. En conjunto, esperamos que la fórmula se vea así:\n",
        "\n",
        "$\\theta_1 * x + \\theta_0 = 0.41*x - 0.36 = y$ <br>\n",
        "\n",
        "Grafiquemos esto para observarlo:"
      ]
    },
    {
      "cell_type": "code",
      "execution_count": 25,
      "id": "japanese-working",
      "metadata": {
        "colab": {
          "base_uri": "https://localhost:8080/",
          "height": 369
        },
        "id": "japanese-working",
        "outputId": "ff8ac4a9-1c2f-4006-c33f-57b0a384fa9c"
      },
      "outputs": [
        {
          "data": {
            "image/png": "[encoded data removed]",
            "text/plain": [
              "<Figure size 360x360 with 1 Axes>"
            ]
          },
          "metadata": {
            "needs_background": "light"
          },
          "output_type": "display_data"
        }
      ],
      "source": [
        "# Definimos variables para acceder de forma más simple a las columnas de nuestros features.\n",
        "plength = data[\"petal length (cm)\"]\n",
        "pwidth = data[\"petal width (cm)\"]\n",
        "\n",
        "# Definimos un arreglo desde el valor mímimo del petal length hasta el máximo del petal lenght + 1, en pasos de 0.5.\n",
        "xvals = np.arange(plength.min(), plength.max()+1, 0.5)\n",
        "\n",
        "# Ecuación de nuestra regresión lineal.\n",
        "yvals = 0.41*xvals - 0.36\n",
        "\n",
        "# Gráficamos nuestra recta con los datos y nuestra ecuación.\n",
        "f = plt.figure(figsize=(5,5))\n",
        "ax = f.add_subplot(1,1,1)\n",
        "ax.scatter(plength, pwidth)\n",
        "ax.plot(xvals, yvals, 'k', linewidth=3)\n",
        "ax.set_xlabel(\"Petal Length\")\n",
        "ax.set_ylabel(\"Petal Width\")\n",
        "ax.set_title(\"Petal Length v. Width\")\n",
        "f.tight_layout()"
      ]
    },
    {
      "cell_type": "markdown",
      "id": "beneficial-lobby",
      "metadata": {
        "id": "beneficial-lobby"
      },
      "source": [
        "¡No es una mala relación! Podemos dar un paso más para cuantificar \"qué tan bueno es el ajuste\" utilizando dos métricas de rendimiento: el error cuadrático medio (MSE) y $R^2$.\n",
        "\n",
        "El valor de $R^2$ busca la correlación entre $x$ y $y$. Para este caso pregunta \"qué tan bien se ajusta la línea a los puntos de nuestros datos\".\n",
        "\n",
        "Siempre queremos un MSE bajo y $R^2$ cercano a 1. $R^2$ está limitado de $0$ (efectivamente no correlacionado) a $1$ (relación perfecta).\n",
        "\n",
        "Podemos calcular nuestras métricas de rendimiento prediciendo primero en nuestro **conjunto de datos de pruebas** y luego viendo qué tan buena es la estimación de nuestro modelo del ancho del pétalo cuando se usa la longitud del pétalo, en comparación con los valores reales del ancho del pétalo."
      ]
    },
    {
      "cell_type": "code",
      "execution_count": 28,
      "id": "documentary-swimming",
      "metadata": {
        "colab": {
          "base_uri": "https://localhost:8080/"
        },
        "id": "documentary-swimming",
        "outputId": "cbc45510-521f-47ae-e02f-b61ac719d974"
      },
      "outputs": [
        {
          "name": "stdout",
          "output_type": "stream",
          "text": [
            "MSE: 0.04\n",
            "R2: 0.94\n"
          ]
        }
      ],
      "source": [
        "# Predicción con model_1 = linear_model.LinearRegression() utilizando los datos de prueba.\n",
        "ypredict = model_1.predict(pd.DataFrame(test.iloc[:, 2]))\n",
        "\n",
        "# Calculamos el MSE con los valores predichos en y.\n",
        "print('MSE: %.2f'\n",
        "      % mean_squared_error(pd.DataFrame(test.iloc[:, 3]), ypredict))\n",
        "\n",
        "# Calculamos R^2 con los valores predichos en y.\n",
        "print('R2: %.2f'\n",
        "      % r2_score(pd.DataFrame(test.iloc[:, 3]), ypredict))"
      ]
    },
    {
      "cell_type": "markdown",
      "id": "6dZFApanB5R7",
      "metadata": {
        "id": "6dZFApanB5R7"
      },
      "source": [
        "¡Excelente! Podemos ver que existe una relación decente entre la longitud y el ancho de los pétalos."
      ]
    },
    {
      "cell_type": "markdown",
      "id": "choice-portland",
      "metadata": {
        "id": "choice-portland"
      },
      "source": [
        "## 3: Regresión logística\n",
        "\n",
        "Similar a la regresión lineal, la regresión logística ajusta una \"línea\" con los coeficientes. Sin embargo, a diferencia de la regresión lineal, este modelo tiene como objetivo **clasificar datos**.\n",
        "\n",
        "A partir del ancho de los pétalos, podemos ver que hay 3 comportamientos distintos de cada una de las especies de flores. Usando el largo/ancho del sépalo y el largo/ancho del pétalo, nos gustaría clasificar a qué especie de flor pertenece cada punto de datos.\n",
        "\n",
        "Para hacer esto podemos emplear regresión logística. En la regresión logística binaria, estamos tratando de ajustar un logaritmo de relación impar; es decir, una probabilidad de una clase particular en relación con la otra clase.\n",
        "\n",
        "En este problema hay 3 especies, por lo que la fórmula está ligeramente adaptada. Afortunadamente, scikit-learn puede manejar problemas de etiquetas binarias o de etiquetas múltiples con mucha facilidad.\n",
        "\n",
        "Para construir un modelo de regresión logística se puede utilizar lo siguiente:"
      ]
    },
    {
      "cell_type": "code",
      "execution_count": 35,
      "id": "mobile-costa",
      "metadata": {
        "colab": {
          "base_uri": "https://localhost:8080/"
        },
        "id": "mobile-costa",
        "outputId": "7e681133-665a-4e03-de77-b38ea5ee54fe"
      },
      "outputs": [
        {
          "name": "stdout",
          "output_type": "stream",
          "text": [
            "91     1\n",
            "63     1\n",
            "103    2\n",
            "6      0\n",
            "59     1\n",
            "      ..\n",
            "60     1\n",
            "71     1\n",
            "121    2\n",
            "14     0\n",
            "81     1\n",
            "Name: species, Length: 120, dtype: int64\n"
          ]
        },
        {
          "name": "stderr",
          "output_type": "stream",
          "text": [
            "/home/usuario/Documentos/Platzi/introduction_machine_learning/env/lib/python3.6/site-packages/sklearn/linear_model/_logistic.py:765: ConvergenceWarning: lbfgs failed to converge (status=1):\n",
            "STOP: TOTAL NO. of ITERATIONS REACHED LIMIT.\n",
            "\n",
            "Increase the number of iterations (max_iter) or scale the data as shown in:\n",
            "    https://scikit-learn.org/stable/modules/preprocessing.html\n",
            "Please also refer to the documentation for alternative solver options:\n",
            "    https://scikit-learn.org/stable/modules/linear_model.html#logistic-regression\n",
            "  extra_warning_msg=_LOGISTIC_SOLVER_CONVERGENCE_MSG)\n"
          ]
        },
        {
          "data": {
            "text/plain": [
              "LogisticRegression()"
            ]
          },
          "execution_count": 35,
          "metadata": {},
          "output_type": "execute_result"
        }
      ],
      "source": [
        "# Preparamos los datos de entrenamiento y prueba en x y y.\n",
        "# La última columna es la etiqueta de la especie..\n",
        "\n",
        "xtrain = train.iloc[:, :-1] # input, training (todas las columnas menos la ultima)\n",
        "ytrain = train.iloc[:, -1] # output, training (La ultima columna)\n",
        "xtest = test.iloc[:, :-1] # input, test\n",
        "ytest = test.iloc[:, -1] # output, test\n",
        "\n",
        "# Configuramos la regresión logística con el método de regresión logística de linear_model.\n",
        "model_2 = linear_model.LogisticRegression()\n",
        "\n",
        "# Ajustamos el modelo con los datos de entrenamiento.\n",
        "model_2.fit(xtrain, ytrain)"
      ]
    },
    {
      "cell_type": "markdown",
      "id": "heated-melbourne",
      "metadata": {
        "id": "heated-melbourne"
      },
      "source": [
        "La evaluación de la regresión logística utilizará **precisión (accuracy)**, o un recuento de la cantidad de veces que el modelo etiqueta correctamente un ejemplo.\n",
        "\n",
        "Lo podemos hacer de la siguiente manera:"
      ]
    },
    {
      "cell_type": "code",
      "execution_count": 36,
      "id": "sought-contest",
      "metadata": {
        "colab": {
          "base_uri": "https://localhost:8080/"
        },
        "id": "sought-contest",
        "outputId": "77077b9d-183b-4e3b-9835-e4fbdd87701b"
      },
      "outputs": [
        {
          "name": "stdout",
          "output_type": "stream",
          "text": [
            "Testing accuracy = 1.0\n"
          ]
        }
      ],
      "source": [
        "# Hacer predicciones con el conjunto de prueba.\n",
        "ypred = model_2.predict(xtest)\n",
        "\n",
        "# Probamos el accuracy del modelo generado\n",
        "print(\"Testing accuracy =\", accuracy_score(ytest, ypred))"
      ]
    },
    {
      "cell_type": "markdown",
      "id": "advisory-pride",
      "metadata": {
        "id": "advisory-pride"
      },
      "source": [
        "¡Increíblemente, nuestro modelo pudo obtener todos los ejemplos correctamente!\n",
        "\n",
        "Tal hazaña solo puede ocurrir si el conjunto de prueba de los datos es *separable linealmente*, una condición especial en la que es realmente fácil agrupar los datos, o una línea (o plano) dibujada puede separar completamente entre todas las muestras de diferentes clases. \n",
        "\n",
        "En problemas más complicados, es posible que necesites verificar la [*matriz de confusión*](https://scikit-learn.org/stable/modules/generated/sklearn.metrics.confusion_matrix.html) preguntando cuáles son los verdaderos positivos, verdaderos negativos, falsos positivos y falsos negativos. Puedes hacer esto usando la matriz de confusión de scikit-learn de la siguiente forma:"
      ]
    },
    {
      "cell_type": "code",
      "execution_count": 37,
      "id": "effective-station",
      "metadata": {
        "colab": {
          "base_uri": "https://localhost:8080/"
        },
        "id": "effective-station",
        "outputId": "3ebc2afa-28ba-46ad-c6a9-1c6ec24060a9"
      },
      "outputs": [
        {
          "data": {
            "text/plain": [
              "array([[11,  0,  0],\n",
              "       [ 0,  7,  0],\n",
              "       [ 0,  0, 12]])"
            ]
          },
          "execution_count": 37,
          "metadata": {},
          "output_type": "execute_result"
        }
      ],
      "source": [
        "# Un ejemplo de la matriz de confusión con sklearn\n",
        "#Importamos el método de matriz de confusión desde sklearn\n",
        "from sklearn.metrics import confusion_matrix\n",
        "\n",
        "#Aplicamos la matriz a nuestros valores de testing y los valores de predicción generados.\n",
        "confusion_matrix(ytest, ypred)"
      ]
    },
    {
      "cell_type": "markdown",
      "id": "russian-cause",
      "metadata": {
        "id": "russian-cause"
      },
      "source": [
        "Ten en cuenta que, dado que hay 3 clases, cada columna y fila individual corresponde a una clase. Las columnas corresponden a las etiquetas predichas y las filas a las etiquetas verdaderas."
      ]
    },
    {
      "cell_type": "markdown",
      "id": "diverse-article",
      "metadata": {
        "id": "diverse-article"
      },
      "source": [
        "### 3a: Regresión logística - regularización (bonus)\n",
        "\n",
        "Vale la pena mirar los [argumentos predeterminados](https://scikit-learn.org/stable/modules/generated/sklearn.linear_model.LogisticRegression.html) de ```LogisticRegression``` de scikit-learn. A saber, una cosa a buscar son los términos de **regularización** y **penalización**.\n",
        "\n",
        "La **regularización**, aunque no se trata en el curso, tiene la intención de ayudar a los modelos asegurándose de que no se ajusten demasiado. Al agregar un nuevo término a la función de pérdida, el modelo penalizará el tamaño de cada coeficiente en el modelo.\n",
        "\n",
        "Overfitting means that your model will perform fantastically on the training set, but horribly on the test (or validation) set. Regularization tries to make coefficients of redundant/not useful features as close to 0 as possible, meaning they play little role in the prediction. \n",
        "\n",
        "El **sobreajuste** u **overfitting** significa que el modelo funcionará fantásticamente en el conjunto de entrenamiento, pero horriblemente en el conjunto de prueba (o el de validación). La regularización intenta hacer que los coeficientes de las características redundantes/no útiles sean lo más cercanos a 0 como sea posible, lo que significa que juegan un papel pequeño en la predicción.\n",
        "\n",
        "En scikit-learn, `penalty`  o penalización se refiere al tipo de regularización, normalmente **L1** or **L2**. Ambos métodos fomentan la escasez (lo que significa que muchos de los coeficientes delante de las características se acercan a 0). Además, la fuerza de la penalización inversa (regularización) es `C`. Una `C` grande indica una menor fuerza de penalización, así que disminuye gradualmente este valor mientras intentas encontrar los features más importantes."
      ]
    },
    {
      "cell_type": "markdown",
      "id": "dominican-dakota",
      "metadata": {
        "id": "dominican-dakota"
      },
      "source": [
        "## 4. Bosque aleatorio (árboles de decisión)\n",
        "\n",
        "El último enfoque que analizaremos es el bosque aleatorio. Como estamos tratando de etiquetar entre especies, usaremos un Clasificador de bosque aleatorio como se ve [aquí](https://scikit-learn.org/stable/modules/generated/sklearn.ensemble.RandomForestClassifier.html?highlight=randomforest#sklearn.ensemble.RandomForestClassifier). También hay un Random Forest [regressor](https://scikit-learn.org/stable/modules/generated/sklearn.ensemble.RandomForestRegressor.html?highlight=randomforest#sklearn.ensemble.RandomForestRegressor) o regresor de bosque aleatorio. \n",
        "\n",
        "Bosque aleatorio tiene varios argumentos de entrada. Por simplicidad solo agregamos los estimadores `n_estimators`. Corresponden al número de árboles en el bosque."
      ]
    },
    {
      "cell_type": "code",
      "execution_count": 38,
      "id": "hungry-remark",
      "metadata": {
        "colab": {
          "base_uri": "https://localhost:8080/"
        },
        "id": "hungry-remark",
        "outputId": "94e7baab-fc20-4f5b-d1bd-c942da675357"
      },
      "outputs": [
        {
          "name": "stdout",
          "output_type": "stream",
          "text": [
            "Testing accuracy = 1.0\n"
          ]
        }
      ],
      "source": [
        "# Creamos el clasificador\n",
        "clf = RandomForestClassifier(n_estimators=3)\n",
        "\n",
        "# Entrenamos el modelo\n",
        "clf.fit(xtrain, ytrain)\n",
        "\n",
        "# Generamos predicción \n",
        "y_pred=clf.predict(xtest)\n",
        "\n",
        "# Probamos el modelo con accuracy\n",
        "print(\"Testing accuracy =\", accuracy_score(ytest, ypred))"
      ]
    },
    {
      "cell_type": "markdown",
      "id": "responsible-partner",
      "metadata": {
        "id": "responsible-partner"
      },
      "source": [
        "Dado este dataset de \"juguete\", el modelo es capaz de conseguir perfección en la prueba de accuracy (100% o 1). \n",
        "\n",
        "Con datos de un caso real y menos \"perfecto\" esto no pasaría, pero si buscaríamos que se acerque lo más a 1."
      ]
    },
    {
      "cell_type": "markdown",
      "id": "pediatric-focus",
      "metadata": {
        "id": "pediatric-focus"
      },
      "source": [
        "## 5. K-Means clustering\n",
        "\n",
        "En el último enfoque, intentaremos ver si podemos ver patrones dentro de los datos usando KMeans. KMeans es un algoritmo de aprendizaje no supervisado, lo que significa que no se requieren etiquetas para entrenar.\n",
        "\n",
        "Aquí, ya sabemos que hay 3 especies diferentes de flores, y hemos tenido muchos modelos de entrenamiento exitosos para reconocer estas especies. Sin embargo, en muchos problemas, es posible que no sepamos de antemano qué grupos pueden existir ya en los datos.\n",
        "\n",
        "Para ello, KMeans sobresale. A continuación, usaremos un modelo de K-medias e intentaremos encontrar cuántos grupos hay.\n",
        "\n",
        "Primero, inicializamos nuestro modelo KMeans. Existen muchos argumentos en la implementación de scikit-learn [aquí](https://scikit-learn.org/stable/modules/generated/sklearn.cluster.KMeans.html). Mientras que usaremos los por defecto, el principal a tomar en cuenta es `n_clusters` o cuántos grupos pensamos de antemano que hay en los datos. También usaremos `random_state`, pero eso es para asegurar la reproducibilidad.\n",
        "\n",
        "Ten en cuenta que usaremos el conjunto de datos completo aquí, pero es posible encajar en un conjunto de entrenamiento y usar un conjunto de pruebas por separado para ver qué tan \"robustos\" son los clústeres.\n",
        "\n",
        "Para simplificar la visualización, entrenaremos con `petal length` and `petal width`."
      ]
    },
    {
      "cell_type": "code",
      "execution_count": 39,
      "id": "major-benchmark",
      "metadata": {
        "colab": {
          "base_uri": "https://localhost:8080/"
        },
        "id": "major-benchmark",
        "outputId": "4d20daab-8a3a-4cec-e9c0-c3cb9429330f"
      },
      "outputs": [
        {
          "name": "stdout",
          "output_type": "stream",
          "text": [
            "Inertia = 86.39021984551398\n",
            "Centroids (x, y) =\n",
            " [[1.49215686 0.2627451 ]\n",
            " [4.92525253 1.68181818]]\n"
          ]
        }
      ],
      "source": [
        "# Inicializamos el modelo KMeans.\n",
        "k2model = KMeans(n_clusters=2, random_state=42)\n",
        "\n",
        "# Ajustar todos los puntos de datos EXCEPTO para la especie.\n",
        "k2model.fit(data[[\"petal length (cm)\", \"petal width (cm)\"]])\n",
        "\n",
        "# Calculamos e imprimimos la inercia desde el modelo de Kmeans.\n",
        "print(\"Inertia =\", k2model.inertia_)\n",
        "\n",
        "# Cálculamos e imprimimos la posición de los clústers.\n",
        "print(\"Centroids (x, y) =\\n\", k2model.cluster_centers_)"
      ]
    },
    {
      "cell_type": "code",
      "execution_count": 43,
      "id": "3e73dcbf",
      "metadata": {},
      "outputs": [
        {
          "name": "stdout",
          "output_type": "stream",
          "text": [
            "Inertia = 31.371358974358948\n",
            "Centroids (x, y) =\n",
            " [[4.26923077 1.34230769]\n",
            " [1.462      0.246     ]\n",
            " [5.59583333 2.0375    ]]\n"
          ]
        }
      ],
      "source": [
        "# Inicializamos el modelo KMeans.\n",
        "k3model = KMeans(n_clusters=3, random_state=42)\n",
        "\n",
        "# Ajustar todos los puntos de datos EXCEPTO para la especie.\n",
        "k3model.fit(data[[\"petal length (cm)\", \"petal width (cm)\"]])\n",
        "\n",
        "# Calculamos e imprimimos la inercia desde el modelo de Kmeans.\n",
        "print(\"Inertia =\", k3model.inertia_)\n",
        "\n",
        "# Cálculamos e imprimimos la posición de los clústers.\n",
        "print(\"Centroids (x, y) =\\n\", k3model.cluster_centers_)"
      ]
    },
    {
      "cell_type": "markdown",
      "id": "upper-arnold",
      "metadata": {
        "id": "upper-arnold"
      },
      "source": [
        "Primero, visualicemos estos centros de clústeres en un diagrama de dispersión de los puntos de datos. \n",
        "\n",
        "Antes de trazar los centros de los clústers primero trazaremos los puntos de datos.Para mayor claridad, también los colorearé de acuerdo con las etiquetas. ***NOTA, los modelos entrenaron SIN conocer estas etiquetas***."
      ]
    },
    {
      "cell_type": "code",
      "execution_count": 42,
      "id": "macro-singer",
      "metadata": {
        "colab": {
          "base_uri": "https://localhost:8080/",
          "height": 358
        },
        "id": "macro-singer",
        "outputId": "9ccb25dc-8ff8-4f71-bffa-a5e4fdd80e09"
      },
      "outputs": [
        {
          "data": {
            "image/png": "[encoded data removed]",
            "text/plain": [
              "<Figure size 360x360 with 1 Axes>"
            ]
          },
          "metadata": {
            "needs_background": "light"
          },
          "output_type": "display_data"
        }
      ],
      "source": [
        "# Graficamos los datos con la línea para setosa.\n",
        "f = plt.figure(figsize=(5,5))\n",
        "ax = f.add_subplot(1,1,1)\n",
        "\n",
        "# Setosa\n",
        "ax.scatter(data[data.iloc[:, -1]==0][\"petal length (cm)\"],\n",
        "           data[data.iloc[:, -1]==0][\"petal width (cm)\"],\n",
        "           c='k')\n",
        "\n",
        "# Versicolor\n",
        "ax.scatter(data[data.iloc[:, -1]==1][\"petal length (cm)\"],\n",
        "           data[data.iloc[:, -1]==1][\"petal width (cm)\"],\n",
        "           c='r')\n",
        "\n",
        "# Virginica\n",
        "ax.scatter(data[data.iloc[:, -1]==2][\"petal length (cm)\"],\n",
        "           data[data.iloc[:, -1]==2][\"petal width (cm)\"],\n",
        "           c='b')\n",
        "\n",
        "ax.legend([\"Setosa\", \"Versicolor\", \"Virginica\"])\n",
        "\n",
        "# Graficamos los centroides de los clústers (output en Petal Length x Petal Width)\n",
        "ax.plot(k2model.cluster_centers_[:,0],\n",
        "        k2model.cluster_centers_[:,1],\n",
        "        \"g*\", markersize=30)\n",
        "\n",
        "ax.set_xlabel(\"Petal Length\")\n",
        "ax.set_ylabel(\"Petal Width\")\n",
        "ax.set_title(\"Petal Length v. Width\")\n",
        "f.tight_layout()"
      ]
    },
    {
      "cell_type": "markdown",
      "id": "racial-austria",
      "metadata": {
        "id": "racial-austria"
      },
      "source": [
        "No está mal, nuestro modelo pareció captar el clúster inferior, pero debido a que solo especificamos 2 clústers, parece que perdemos la diferencia entre Versicolor y Virginica. El modelo coloca apropiadamente un centroide entre ellos.\n",
        "\n",
        "In practice, you may not have the labels available like we do here. So, to be able to identify how to choose the best \"*k*\", we will use an \"Elbow-plot\" by trying to fit a model for many different *k*s in a small panel. We plot an elbow-plot typically with inertia on the y-axis, and the number of clusters on the x-axis. Inertia can be retrieved by the model as seen 2 code cells above; it measures how far the data points are to their closest cluster centers. Ideally, models with lower inertia are better; however, with more clusters, the inertia often will continue to marginally decrease. Thus, the elbow plot tells us the best number of clusters to have to get the most out of inertia.\n",
        "\n",
        "En la práctica, es posible que no tengas las etiquetas disponibles como las tenemos aquí. Entonces, para poder identificar cómo elegir el mejor \"*k*\", usaremos un **diagrama de codo** tratando de ajustar un modelo para muchos *k*s diferentes en un panel pequeño. Trazamos un diagrama de codo típicamente con inercia en el eje y, y el número de grupos en el eje x. La inercia puede ser recuperada por el modelo como se ve en las 2 celdas de código arriba; mide qué tan lejos están los puntos de datos de sus centros de conglomerados más cercanos. Idealmente, los modelos con menor inercia son mejores; sin embargo, con más grupos, la inercia a menudo seguirá disminuyendo marginalmente. Por lo tanto, el diagrama de codo nos dice el mejor número de conglomerados que debemos tener para aprovechar al máximo la inercia."
      ]
    },
    {
      "cell_type": "markdown",
      "id": "revolutionary-digit",
      "metadata": {
        "id": "revolutionary-digit"
      },
      "source": [
        "## 6: Conclusiones\n",
        "\n",
        "En esta notebook hemos cubierto lo esencial de diferentes modelos de machine learning usando scikit-learn:\n",
        "* Regresión lineal - (supervisado, regresión).\n",
        "* Regresión logística - (supervisado, clasificación).\n",
        "* Bosques aleatorios (Random Forest) - (supervised, clasificación).\n",
        "* K-Means - (no supervisado, clustering)\n",
        "\n",
        "En los datos con los que puedes trabajar en el futuro es posible que las respuestas no sean tan claras. Es importante probar muchos modelos y sondear realmente tu conjunto de datos para preguntar si las métricas de rendimiento realmente indican si los modelos están aprendiendo como se esperaría."
      ]
    }
  ],
  "metadata": {
    "colab": {
      "name": "reto2_modelos_ml.ipynb",
      "provenance": []
    },
    "kernelspec": {
      "display_name": "Python 3",
      "name": "python3"
    },
    "language_info": {
      "name": "python"
    }
  },
  "nbformat": 4,
  "nbformat_minor": 5
}
